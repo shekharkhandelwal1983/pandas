{
  "nbformat": 4,
  "nbformat_minor": 0,
  "metadata": {
    "kernelspec": {
      "display_name": "Python 3",
      "language": "python",
      "name": "python3"
    },
    "language_info": {
      "codemirror_mode": {
        "name": "ipython",
        "version": 3
      },
      "file_extension": ".py",
      "mimetype": "text/x-python",
      "name": "python",
      "nbconvert_exporter": "python",
      "pygments_lexer": "ipython3",
      "version": "3.7.0"
    },
    "colab": {
      "name": "6_Grouping_and_Summarising.ipynb",
      "provenance": [],
      "include_colab_link": true
    }
  },
  "cells": [
    {
      "cell_type": "markdown",
      "metadata": {
        "id": "view-in-github",
        "colab_type": "text"
      },
      "source": [
        "<a href=\"https://colab.research.google.com/github/shekharkhandelwal1983/pandas/blob/master/6_Grouping_and_Summarising.ipynb\" target=\"_parent\"><img src=\"https://colab.research.google.com/assets/colab-badge.svg\" alt=\"Open In Colab\"/></a>"
      ]
    },
    {
      "cell_type": "markdown",
      "metadata": {
        "id": "cFSUiX4Wlw6P",
        "colab_type": "text"
      },
      "source": [
        "# Grouping and Summarising Dataframes\n",
        "\n",
        "Grouping and aggregation are some of the most frequently used operations in data analysis, especially while doing exploratory data analysis (EDA), where comparing summary statistics across groups of data is common.\n",
        "\n",
        "For e.g., in the retail sales data we are working with, you may want to compare the average sales of various regions, or compare the total profit of two customer segments. \n",
        "\n",
        "Grouping analysis can be thought of as having three parts:\n",
        "1. **Splitting** the data into groups (e.g. groups of customer segments, product categories, etc.)\n",
        "2. **Applying** a function to each group (e.g. mean or total sales of each customer segment)\n",
        "3. **Combining** the results into a data structure showing the summary statistics\n",
        "\n",
        "Let's work through some examples."
      ]
    },
    {
      "cell_type": "code",
      "metadata": {
        "id": "KATgHHwzlw6R",
        "colab_type": "code",
        "colab": {}
      },
      "source": [
        "# Loading libraries and files\n",
        "import numpy as np\n",
        "import pandas as pd\n",
        "\n",
        "market_df = pd.read_csv(\"global_sales_data/market_fact.csv\")\n",
        "customer_df = pd.read_csv(\"global_sales_data/cust_dimen.csv\")\n",
        "product_df = pd.read_csv(\"global_sales_data/prod_dimen.csv\")\n",
        "shipping_df = pd.read_csv(\"global_sales_data/shipping_dimen.csv\")\n",
        "orders_df = pd.read_csv(\"global_sales_data/orders_dimen.csv\")"
      ],
      "execution_count": 0,
      "outputs": []
    },
    {
      "cell_type": "code",
      "metadata": {
        "id": "qJlfXA8nlw6X",
        "colab_type": "code",
        "colab": {},
        "outputId": "580f7db9-3b2f-44a4-a320-6a40f8fa66ff"
      },
      "source": [
        "market_df.head()"
      ],
      "execution_count": 0,
      "outputs": [
        {
          "output_type": "execute_result",
          "data": {
            "text/html": [
              "<div>\n",
              "<style scoped>\n",
              "    .dataframe tbody tr th:only-of-type {\n",
              "        vertical-align: middle;\n",
              "    }\n",
              "\n",
              "    .dataframe tbody tr th {\n",
              "        vertical-align: top;\n",
              "    }\n",
              "\n",
              "    .dataframe thead th {\n",
              "        text-align: right;\n",
              "    }\n",
              "</style>\n",
              "<table border=\"1\" class=\"dataframe\">\n",
              "  <thead>\n",
              "    <tr style=\"text-align: right;\">\n",
              "      <th></th>\n",
              "      <th>Ord_id</th>\n",
              "      <th>Prod_id</th>\n",
              "      <th>Ship_id</th>\n",
              "      <th>Cust_id</th>\n",
              "      <th>Sales</th>\n",
              "      <th>Discount</th>\n",
              "      <th>Order_Quantity</th>\n",
              "      <th>Profit</th>\n",
              "      <th>Shipping_Cost</th>\n",
              "      <th>Product_Base_Margin</th>\n",
              "    </tr>\n",
              "  </thead>\n",
              "  <tbody>\n",
              "    <tr>\n",
              "      <th>0</th>\n",
              "      <td>Ord_5446</td>\n",
              "      <td>Prod_16</td>\n",
              "      <td>SHP_7609</td>\n",
              "      <td>Cust_1818</td>\n",
              "      <td>136.81</td>\n",
              "      <td>0.01</td>\n",
              "      <td>23</td>\n",
              "      <td>-30.51</td>\n",
              "      <td>3.60</td>\n",
              "      <td>0.56</td>\n",
              "    </tr>\n",
              "    <tr>\n",
              "      <th>1</th>\n",
              "      <td>Ord_5406</td>\n",
              "      <td>Prod_13</td>\n",
              "      <td>SHP_7549</td>\n",
              "      <td>Cust_1818</td>\n",
              "      <td>42.27</td>\n",
              "      <td>0.01</td>\n",
              "      <td>13</td>\n",
              "      <td>4.56</td>\n",
              "      <td>0.93</td>\n",
              "      <td>0.54</td>\n",
              "    </tr>\n",
              "    <tr>\n",
              "      <th>2</th>\n",
              "      <td>Ord_5446</td>\n",
              "      <td>Prod_4</td>\n",
              "      <td>SHP_7610</td>\n",
              "      <td>Cust_1818</td>\n",
              "      <td>4701.69</td>\n",
              "      <td>0.00</td>\n",
              "      <td>26</td>\n",
              "      <td>1148.90</td>\n",
              "      <td>2.50</td>\n",
              "      <td>0.59</td>\n",
              "    </tr>\n",
              "    <tr>\n",
              "      <th>3</th>\n",
              "      <td>Ord_5456</td>\n",
              "      <td>Prod_6</td>\n",
              "      <td>SHP_7625</td>\n",
              "      <td>Cust_1818</td>\n",
              "      <td>2337.89</td>\n",
              "      <td>0.09</td>\n",
              "      <td>43</td>\n",
              "      <td>729.34</td>\n",
              "      <td>14.30</td>\n",
              "      <td>0.37</td>\n",
              "    </tr>\n",
              "    <tr>\n",
              "      <th>4</th>\n",
              "      <td>Ord_5485</td>\n",
              "      <td>Prod_17</td>\n",
              "      <td>SHP_7664</td>\n",
              "      <td>Cust_1818</td>\n",
              "      <td>4233.15</td>\n",
              "      <td>0.08</td>\n",
              "      <td>35</td>\n",
              "      <td>1219.87</td>\n",
              "      <td>26.30</td>\n",
              "      <td>0.38</td>\n",
              "    </tr>\n",
              "  </tbody>\n",
              "</table>\n",
              "</div>"
            ],
            "text/plain": [
              "     Ord_id  Prod_id   Ship_id    Cust_id    Sales  Discount  Order_Quantity  \\\n",
              "0  Ord_5446  Prod_16  SHP_7609  Cust_1818   136.81      0.01              23   \n",
              "1  Ord_5406  Prod_13  SHP_7549  Cust_1818    42.27      0.01              13   \n",
              "2  Ord_5446   Prod_4  SHP_7610  Cust_1818  4701.69      0.00              26   \n",
              "3  Ord_5456   Prod_6  SHP_7625  Cust_1818  2337.89      0.09              43   \n",
              "4  Ord_5485  Prod_17  SHP_7664  Cust_1818  4233.15      0.08              35   \n",
              "\n",
              "    Profit  Shipping_Cost  Product_Base_Margin  \n",
              "0   -30.51           3.60                 0.56  \n",
              "1     4.56           0.93                 0.54  \n",
              "2  1148.90           2.50                 0.59  \n",
              "3   729.34          14.30                 0.37  \n",
              "4  1219.87          26.30                 0.38  "
            ]
          },
          "metadata": {
            "tags": []
          },
          "execution_count": 3
        }
      ]
    },
    {
      "cell_type": "code",
      "metadata": {
        "id": "ec2r6wrHlw6b",
        "colab_type": "code",
        "colab": {},
        "outputId": "4128c9e4-1ec6-4e8e-fe56-361870c422ea"
      },
      "source": [
        "customer_df.head()"
      ],
      "execution_count": 0,
      "outputs": [
        {
          "output_type": "execute_result",
          "data": {
            "text/html": [
              "<div>\n",
              "<style scoped>\n",
              "    .dataframe tbody tr th:only-of-type {\n",
              "        vertical-align: middle;\n",
              "    }\n",
              "\n",
              "    .dataframe tbody tr th {\n",
              "        vertical-align: top;\n",
              "    }\n",
              "\n",
              "    .dataframe thead th {\n",
              "        text-align: right;\n",
              "    }\n",
              "</style>\n",
              "<table border=\"1\" class=\"dataframe\">\n",
              "  <thead>\n",
              "    <tr style=\"text-align: right;\">\n",
              "      <th></th>\n",
              "      <th>Customer_Name</th>\n",
              "      <th>Province</th>\n",
              "      <th>Region</th>\n",
              "      <th>Customer_Segment</th>\n",
              "      <th>Cust_id</th>\n",
              "    </tr>\n",
              "  </thead>\n",
              "  <tbody>\n",
              "    <tr>\n",
              "      <th>0</th>\n",
              "      <td>MUHAMMED MACINTYRE</td>\n",
              "      <td>NUNAVUT</td>\n",
              "      <td>NUNAVUT</td>\n",
              "      <td>SMALL BUSINESS</td>\n",
              "      <td>Cust_1</td>\n",
              "    </tr>\n",
              "    <tr>\n",
              "      <th>1</th>\n",
              "      <td>BARRY FRENCH</td>\n",
              "      <td>NUNAVUT</td>\n",
              "      <td>NUNAVUT</td>\n",
              "      <td>CONSUMER</td>\n",
              "      <td>Cust_2</td>\n",
              "    </tr>\n",
              "    <tr>\n",
              "      <th>2</th>\n",
              "      <td>CLAY ROZENDAL</td>\n",
              "      <td>NUNAVUT</td>\n",
              "      <td>NUNAVUT</td>\n",
              "      <td>CORPORATE</td>\n",
              "      <td>Cust_3</td>\n",
              "    </tr>\n",
              "    <tr>\n",
              "      <th>3</th>\n",
              "      <td>CARLOS SOLTERO</td>\n",
              "      <td>NUNAVUT</td>\n",
              "      <td>NUNAVUT</td>\n",
              "      <td>CONSUMER</td>\n",
              "      <td>Cust_4</td>\n",
              "    </tr>\n",
              "    <tr>\n",
              "      <th>4</th>\n",
              "      <td>CARL JACKSON</td>\n",
              "      <td>NUNAVUT</td>\n",
              "      <td>NUNAVUT</td>\n",
              "      <td>CORPORATE</td>\n",
              "      <td>Cust_5</td>\n",
              "    </tr>\n",
              "  </tbody>\n",
              "</table>\n",
              "</div>"
            ],
            "text/plain": [
              "        Customer_Name Province   Region Customer_Segment Cust_id\n",
              "0  MUHAMMED MACINTYRE  NUNAVUT  NUNAVUT   SMALL BUSINESS  Cust_1\n",
              "1        BARRY FRENCH  NUNAVUT  NUNAVUT         CONSUMER  Cust_2\n",
              "2       CLAY ROZENDAL  NUNAVUT  NUNAVUT        CORPORATE  Cust_3\n",
              "3      CARLOS SOLTERO  NUNAVUT  NUNAVUT         CONSUMER  Cust_4\n",
              "4        CARL JACKSON  NUNAVUT  NUNAVUT        CORPORATE  Cust_5"
            ]
          },
          "metadata": {
            "tags": []
          },
          "execution_count": 4
        }
      ]
    },
    {
      "cell_type": "code",
      "metadata": {
        "id": "V0PbA3Vblw6e",
        "colab_type": "code",
        "colab": {},
        "outputId": "38b3feeb-a125-428b-b927-8064c8198797"
      },
      "source": [
        "product_df.head()"
      ],
      "execution_count": 0,
      "outputs": [
        {
          "output_type": "execute_result",
          "data": {
            "text/html": [
              "<div>\n",
              "<style scoped>\n",
              "    .dataframe tbody tr th:only-of-type {\n",
              "        vertical-align: middle;\n",
              "    }\n",
              "\n",
              "    .dataframe tbody tr th {\n",
              "        vertical-align: top;\n",
              "    }\n",
              "\n",
              "    .dataframe thead th {\n",
              "        text-align: right;\n",
              "    }\n",
              "</style>\n",
              "<table border=\"1\" class=\"dataframe\">\n",
              "  <thead>\n",
              "    <tr style=\"text-align: right;\">\n",
              "      <th></th>\n",
              "      <th>Product_Category</th>\n",
              "      <th>Product_Sub_Category</th>\n",
              "      <th>Prod_id</th>\n",
              "    </tr>\n",
              "  </thead>\n",
              "  <tbody>\n",
              "    <tr>\n",
              "      <th>0</th>\n",
              "      <td>OFFICE SUPPLIES</td>\n",
              "      <td>STORAGE &amp; ORGANIZATION</td>\n",
              "      <td>Prod_1</td>\n",
              "    </tr>\n",
              "    <tr>\n",
              "      <th>1</th>\n",
              "      <td>OFFICE SUPPLIES</td>\n",
              "      <td>APPLIANCES</td>\n",
              "      <td>Prod_2</td>\n",
              "    </tr>\n",
              "    <tr>\n",
              "      <th>2</th>\n",
              "      <td>OFFICE SUPPLIES</td>\n",
              "      <td>BINDERS AND BINDER ACCESSORIES</td>\n",
              "      <td>Prod_3</td>\n",
              "    </tr>\n",
              "    <tr>\n",
              "      <th>3</th>\n",
              "      <td>TECHNOLOGY</td>\n",
              "      <td>TELEPHONES AND COMMUNICATION</td>\n",
              "      <td>Prod_4</td>\n",
              "    </tr>\n",
              "    <tr>\n",
              "      <th>4</th>\n",
              "      <td>FURNITURE</td>\n",
              "      <td>OFFICE FURNISHINGS</td>\n",
              "      <td>Prod_5</td>\n",
              "    </tr>\n",
              "  </tbody>\n",
              "</table>\n",
              "</div>"
            ],
            "text/plain": [
              "  Product_Category            Product_Sub_Category Prod_id\n",
              "0  OFFICE SUPPLIES          STORAGE & ORGANIZATION  Prod_1\n",
              "1  OFFICE SUPPLIES                      APPLIANCES  Prod_2\n",
              "2  OFFICE SUPPLIES  BINDERS AND BINDER ACCESSORIES  Prod_3\n",
              "3       TECHNOLOGY    TELEPHONES AND COMMUNICATION  Prod_4\n",
              "4        FURNITURE              OFFICE FURNISHINGS  Prod_5"
            ]
          },
          "metadata": {
            "tags": []
          },
          "execution_count": 5
        }
      ]
    },
    {
      "cell_type": "code",
      "metadata": {
        "id": "Sc7eFE-wlw6g",
        "colab_type": "code",
        "colab": {},
        "outputId": "366bb687-fd82-4eab-e52c-adf173226c44"
      },
      "source": [
        "shipping_df.head()"
      ],
      "execution_count": 0,
      "outputs": [
        {
          "output_type": "execute_result",
          "data": {
            "text/html": [
              "<div>\n",
              "<style scoped>\n",
              "    .dataframe tbody tr th:only-of-type {\n",
              "        vertical-align: middle;\n",
              "    }\n",
              "\n",
              "    .dataframe tbody tr th {\n",
              "        vertical-align: top;\n",
              "    }\n",
              "\n",
              "    .dataframe thead th {\n",
              "        text-align: right;\n",
              "    }\n",
              "</style>\n",
              "<table border=\"1\" class=\"dataframe\">\n",
              "  <thead>\n",
              "    <tr style=\"text-align: right;\">\n",
              "      <th></th>\n",
              "      <th>Order_ID</th>\n",
              "      <th>Ship_Mode</th>\n",
              "      <th>Ship_Date</th>\n",
              "      <th>Ship_id</th>\n",
              "    </tr>\n",
              "  </thead>\n",
              "  <tbody>\n",
              "    <tr>\n",
              "      <th>0</th>\n",
              "      <td>3</td>\n",
              "      <td>REGULAR AIR</td>\n",
              "      <td>20-10-2010</td>\n",
              "      <td>SHP_1</td>\n",
              "    </tr>\n",
              "    <tr>\n",
              "      <th>1</th>\n",
              "      <td>293</td>\n",
              "      <td>DELIVERY TRUCK</td>\n",
              "      <td>02-10-2012</td>\n",
              "      <td>SHP_2</td>\n",
              "    </tr>\n",
              "    <tr>\n",
              "      <th>2</th>\n",
              "      <td>293</td>\n",
              "      <td>REGULAR AIR</td>\n",
              "      <td>03-10-2012</td>\n",
              "      <td>SHP_3</td>\n",
              "    </tr>\n",
              "    <tr>\n",
              "      <th>3</th>\n",
              "      <td>483</td>\n",
              "      <td>REGULAR AIR</td>\n",
              "      <td>12-07-2011</td>\n",
              "      <td>SHP_4</td>\n",
              "    </tr>\n",
              "    <tr>\n",
              "      <th>4</th>\n",
              "      <td>515</td>\n",
              "      <td>REGULAR AIR</td>\n",
              "      <td>30-08-2010</td>\n",
              "      <td>SHP_5</td>\n",
              "    </tr>\n",
              "  </tbody>\n",
              "</table>\n",
              "</div>"
            ],
            "text/plain": [
              "   Order_ID       Ship_Mode   Ship_Date Ship_id\n",
              "0         3     REGULAR AIR  20-10-2010   SHP_1\n",
              "1       293  DELIVERY TRUCK  02-10-2012   SHP_2\n",
              "2       293     REGULAR AIR  03-10-2012   SHP_3\n",
              "3       483     REGULAR AIR  12-07-2011   SHP_4\n",
              "4       515     REGULAR AIR  30-08-2010   SHP_5"
            ]
          },
          "metadata": {
            "tags": []
          },
          "execution_count": 6
        }
      ]
    },
    {
      "cell_type": "code",
      "metadata": {
        "id": "TVxWmH7flw6i",
        "colab_type": "code",
        "colab": {},
        "outputId": "a316f09c-2519-41af-d884-66733dbc80a3"
      },
      "source": [
        "orders_df.head()"
      ],
      "execution_count": 0,
      "outputs": [
        {
          "output_type": "execute_result",
          "data": {
            "text/html": [
              "<div>\n",
              "<style scoped>\n",
              "    .dataframe tbody tr th:only-of-type {\n",
              "        vertical-align: middle;\n",
              "    }\n",
              "\n",
              "    .dataframe tbody tr th {\n",
              "        vertical-align: top;\n",
              "    }\n",
              "\n",
              "    .dataframe thead th {\n",
              "        text-align: right;\n",
              "    }\n",
              "</style>\n",
              "<table border=\"1\" class=\"dataframe\">\n",
              "  <thead>\n",
              "    <tr style=\"text-align: right;\">\n",
              "      <th></th>\n",
              "      <th>Order_ID</th>\n",
              "      <th>Order_Date</th>\n",
              "      <th>Order_Priority</th>\n",
              "      <th>Ord_id</th>\n",
              "    </tr>\n",
              "  </thead>\n",
              "  <tbody>\n",
              "    <tr>\n",
              "      <th>0</th>\n",
              "      <td>3</td>\n",
              "      <td>13-10-2010</td>\n",
              "      <td>LOW</td>\n",
              "      <td>Ord_1</td>\n",
              "    </tr>\n",
              "    <tr>\n",
              "      <th>1</th>\n",
              "      <td>293</td>\n",
              "      <td>01-10-2012</td>\n",
              "      <td>HIGH</td>\n",
              "      <td>Ord_2</td>\n",
              "    </tr>\n",
              "    <tr>\n",
              "      <th>2</th>\n",
              "      <td>483</td>\n",
              "      <td>10-07-2011</td>\n",
              "      <td>HIGH</td>\n",
              "      <td>Ord_3</td>\n",
              "    </tr>\n",
              "    <tr>\n",
              "      <th>3</th>\n",
              "      <td>515</td>\n",
              "      <td>28-08-2010</td>\n",
              "      <td>NOT SPECIFIED</td>\n",
              "      <td>Ord_4</td>\n",
              "    </tr>\n",
              "    <tr>\n",
              "      <th>4</th>\n",
              "      <td>613</td>\n",
              "      <td>17-06-2011</td>\n",
              "      <td>HIGH</td>\n",
              "      <td>Ord_5</td>\n",
              "    </tr>\n",
              "  </tbody>\n",
              "</table>\n",
              "</div>"
            ],
            "text/plain": [
              "   Order_ID  Order_Date Order_Priority Ord_id\n",
              "0         3  13-10-2010            LOW  Ord_1\n",
              "1       293  01-10-2012           HIGH  Ord_2\n",
              "2       483  10-07-2011           HIGH  Ord_3\n",
              "3       515  28-08-2010  NOT SPECIFIED  Ord_4\n",
              "4       613  17-06-2011           HIGH  Ord_5"
            ]
          },
          "metadata": {
            "tags": []
          },
          "execution_count": 7
        }
      ]
    },
    {
      "cell_type": "markdown",
      "metadata": {
        "id": "4CQ2zN4xlw6l",
        "colab_type": "text"
      },
      "source": [
        "Say you want to understand how well or poorly the business is doing in various customer segments, regions, product categories etc. Specifically, you want to identify areas of business where you are incurrring heavy losses, and want to take action accordingly.\n",
        "\n",
        "To do that, we will answer questions such as:\n",
        "* Which customer segments are the least profitable?\n",
        "* Which product categories and sub-categories are the least profitable?\n",
        "* Customers in which geographic region cause the most losses?\n",
        "* Etc.\n",
        "\n",
        "First, we will merge all the dataframes, so we have all the data in one ```master_df```."
      ]
    },
    {
      "cell_type": "code",
      "metadata": {
        "id": "UEofG9Pmlw6l",
        "colab_type": "code",
        "colab": {},
        "outputId": "b15e704c-828e-425f-ded0-7cbc0a3e5fe4"
      },
      "source": [
        "# Merging the dataframes one by one\n",
        "df_1 = pd.merge(market_df, customer_df, how='inner', on='Cust_id')\n",
        "df_2 = pd.merge(df_1, product_df, how='inner', on='Prod_id')\n",
        "df_3 = pd.merge(df_2, shipping_df, how='inner', on='Ship_id')\n",
        "master_df = pd.merge(df_3, orders_df, how='inner', on='Ord_id')\n",
        "\n",
        "master_df.head()"
      ],
      "execution_count": 0,
      "outputs": [
        {
          "output_type": "execute_result",
          "data": {
            "text/html": [
              "<div>\n",
              "<style scoped>\n",
              "    .dataframe tbody tr th:only-of-type {\n",
              "        vertical-align: middle;\n",
              "    }\n",
              "\n",
              "    .dataframe tbody tr th {\n",
              "        vertical-align: top;\n",
              "    }\n",
              "\n",
              "    .dataframe thead th {\n",
              "        text-align: right;\n",
              "    }\n",
              "</style>\n",
              "<table border=\"1\" class=\"dataframe\">\n",
              "  <thead>\n",
              "    <tr style=\"text-align: right;\">\n",
              "      <th></th>\n",
              "      <th>Ord_id</th>\n",
              "      <th>Prod_id</th>\n",
              "      <th>Ship_id</th>\n",
              "      <th>Cust_id</th>\n",
              "      <th>Sales</th>\n",
              "      <th>Discount</th>\n",
              "      <th>Order_Quantity</th>\n",
              "      <th>Profit</th>\n",
              "      <th>Shipping_Cost</th>\n",
              "      <th>Product_Base_Margin</th>\n",
              "      <th>...</th>\n",
              "      <th>Region</th>\n",
              "      <th>Customer_Segment</th>\n",
              "      <th>Product_Category</th>\n",
              "      <th>Product_Sub_Category</th>\n",
              "      <th>Order_ID_x</th>\n",
              "      <th>Ship_Mode</th>\n",
              "      <th>Ship_Date</th>\n",
              "      <th>Order_ID_y</th>\n",
              "      <th>Order_Date</th>\n",
              "      <th>Order_Priority</th>\n",
              "    </tr>\n",
              "  </thead>\n",
              "  <tbody>\n",
              "    <tr>\n",
              "      <th>0</th>\n",
              "      <td>Ord_5446</td>\n",
              "      <td>Prod_16</td>\n",
              "      <td>SHP_7609</td>\n",
              "      <td>Cust_1818</td>\n",
              "      <td>136.81</td>\n",
              "      <td>0.01</td>\n",
              "      <td>23</td>\n",
              "      <td>-30.51</td>\n",
              "      <td>3.60</td>\n",
              "      <td>0.56</td>\n",
              "      <td>...</td>\n",
              "      <td>WEST</td>\n",
              "      <td>CORPORATE</td>\n",
              "      <td>OFFICE SUPPLIES</td>\n",
              "      <td>SCISSORS, RULERS AND TRIMMERS</td>\n",
              "      <td>36262</td>\n",
              "      <td>REGULAR AIR</td>\n",
              "      <td>28-07-2010</td>\n",
              "      <td>36262</td>\n",
              "      <td>27-07-2010</td>\n",
              "      <td>NOT SPECIFIED</td>\n",
              "    </tr>\n",
              "    <tr>\n",
              "      <th>1</th>\n",
              "      <td>Ord_5446</td>\n",
              "      <td>Prod_4</td>\n",
              "      <td>SHP_7610</td>\n",
              "      <td>Cust_1818</td>\n",
              "      <td>4701.69</td>\n",
              "      <td>0.00</td>\n",
              "      <td>26</td>\n",
              "      <td>1148.90</td>\n",
              "      <td>2.50</td>\n",
              "      <td>0.59</td>\n",
              "      <td>...</td>\n",
              "      <td>WEST</td>\n",
              "      <td>CORPORATE</td>\n",
              "      <td>TECHNOLOGY</td>\n",
              "      <td>TELEPHONES AND COMMUNICATION</td>\n",
              "      <td>36262</td>\n",
              "      <td>EXPRESS AIR</td>\n",
              "      <td>27-07-2010</td>\n",
              "      <td>36262</td>\n",
              "      <td>27-07-2010</td>\n",
              "      <td>NOT SPECIFIED</td>\n",
              "    </tr>\n",
              "    <tr>\n",
              "      <th>2</th>\n",
              "      <td>Ord_5446</td>\n",
              "      <td>Prod_6</td>\n",
              "      <td>SHP_7608</td>\n",
              "      <td>Cust_1818</td>\n",
              "      <td>164.02</td>\n",
              "      <td>0.03</td>\n",
              "      <td>23</td>\n",
              "      <td>-47.64</td>\n",
              "      <td>6.15</td>\n",
              "      <td>0.37</td>\n",
              "      <td>...</td>\n",
              "      <td>WEST</td>\n",
              "      <td>CORPORATE</td>\n",
              "      <td>OFFICE SUPPLIES</td>\n",
              "      <td>PAPER</td>\n",
              "      <td>36262</td>\n",
              "      <td>EXPRESS AIR</td>\n",
              "      <td>28-07-2010</td>\n",
              "      <td>36262</td>\n",
              "      <td>27-07-2010</td>\n",
              "      <td>NOT SPECIFIED</td>\n",
              "    </tr>\n",
              "    <tr>\n",
              "      <th>3</th>\n",
              "      <td>Ord_2978</td>\n",
              "      <td>Prod_16</td>\n",
              "      <td>SHP_4112</td>\n",
              "      <td>Cust_1088</td>\n",
              "      <td>305.05</td>\n",
              "      <td>0.04</td>\n",
              "      <td>27</td>\n",
              "      <td>23.12</td>\n",
              "      <td>3.37</td>\n",
              "      <td>0.57</td>\n",
              "      <td>...</td>\n",
              "      <td>ONTARIO</td>\n",
              "      <td>HOME OFFICE</td>\n",
              "      <td>OFFICE SUPPLIES</td>\n",
              "      <td>SCISSORS, RULERS AND TRIMMERS</td>\n",
              "      <td>37863</td>\n",
              "      <td>REGULAR AIR</td>\n",
              "      <td>26-02-2011</td>\n",
              "      <td>37863</td>\n",
              "      <td>24-02-2011</td>\n",
              "      <td>HIGH</td>\n",
              "    </tr>\n",
              "    <tr>\n",
              "      <th>4</th>\n",
              "      <td>Ord_5484</td>\n",
              "      <td>Prod_16</td>\n",
              "      <td>SHP_7663</td>\n",
              "      <td>Cust_1820</td>\n",
              "      <td>322.82</td>\n",
              "      <td>0.05</td>\n",
              "      <td>35</td>\n",
              "      <td>-17.58</td>\n",
              "      <td>3.98</td>\n",
              "      <td>0.56</td>\n",
              "      <td>...</td>\n",
              "      <td>WEST</td>\n",
              "      <td>CONSUMER</td>\n",
              "      <td>OFFICE SUPPLIES</td>\n",
              "      <td>SCISSORS, RULERS AND TRIMMERS</td>\n",
              "      <td>53026</td>\n",
              "      <td>REGULAR AIR</td>\n",
              "      <td>03-03-2012</td>\n",
              "      <td>53026</td>\n",
              "      <td>26-02-2012</td>\n",
              "      <td>LOW</td>\n",
              "    </tr>\n",
              "  </tbody>\n",
              "</table>\n",
              "<p>5 rows × 22 columns</p>\n",
              "</div>"
            ],
            "text/plain": [
              "     Ord_id  Prod_id   Ship_id    Cust_id    Sales  Discount  Order_Quantity  \\\n",
              "0  Ord_5446  Prod_16  SHP_7609  Cust_1818   136.81      0.01              23   \n",
              "1  Ord_5446   Prod_4  SHP_7610  Cust_1818  4701.69      0.00              26   \n",
              "2  Ord_5446   Prod_6  SHP_7608  Cust_1818   164.02      0.03              23   \n",
              "3  Ord_2978  Prod_16  SHP_4112  Cust_1088   305.05      0.04              27   \n",
              "4  Ord_5484  Prod_16  SHP_7663  Cust_1820   322.82      0.05              35   \n",
              "\n",
              "    Profit  Shipping_Cost  Product_Base_Margin       ...         Region  \\\n",
              "0   -30.51           3.60                 0.56       ...           WEST   \n",
              "1  1148.90           2.50                 0.59       ...           WEST   \n",
              "2   -47.64           6.15                 0.37       ...           WEST   \n",
              "3    23.12           3.37                 0.57       ...        ONTARIO   \n",
              "4   -17.58           3.98                 0.56       ...           WEST   \n",
              "\n",
              "  Customer_Segment Product_Category           Product_Sub_Category Order_ID_x  \\\n",
              "0        CORPORATE  OFFICE SUPPLIES  SCISSORS, RULERS AND TRIMMERS      36262   \n",
              "1        CORPORATE       TECHNOLOGY   TELEPHONES AND COMMUNICATION      36262   \n",
              "2        CORPORATE  OFFICE SUPPLIES                          PAPER      36262   \n",
              "3      HOME OFFICE  OFFICE SUPPLIES  SCISSORS, RULERS AND TRIMMERS      37863   \n",
              "4         CONSUMER  OFFICE SUPPLIES  SCISSORS, RULERS AND TRIMMERS      53026   \n",
              "\n",
              "     Ship_Mode   Ship_Date Order_ID_y  Order_Date  Order_Priority  \n",
              "0  REGULAR AIR  28-07-2010      36262  27-07-2010   NOT SPECIFIED  \n",
              "1  EXPRESS AIR  27-07-2010      36262  27-07-2010   NOT SPECIFIED  \n",
              "2  EXPRESS AIR  28-07-2010      36262  27-07-2010   NOT SPECIFIED  \n",
              "3  REGULAR AIR  26-02-2011      37863  24-02-2011            HIGH  \n",
              "4  REGULAR AIR  03-03-2012      53026  26-02-2012             LOW  \n",
              "\n",
              "[5 rows x 22 columns]"
            ]
          },
          "metadata": {
            "tags": []
          },
          "execution_count": 2
        }
      ]
    },
    {
      "cell_type": "markdown",
      "metadata": {
        "id": "B3MZrVKNlw6n",
        "colab_type": "text"
      },
      "source": [
        "#### Step 1. Grouping using ```df.groupby()```\n",
        "\n",
        "Typically, you group the data using a categorical variable, such as customer segments, product categories, etc. This creates as many subsets of the data as there are levels in the categorical variable. \n",
        "\n",
        "For example, in this case, we will group the data along ```Customer_Segment```."
      ]
    },
    {
      "cell_type": "code",
      "metadata": {
        "id": "eFXQZrLylw6o",
        "colab_type": "code",
        "colab": {}
      },
      "source": [
        "df_by_region=master_df.groupby(['Product_Category', 'Product_Sub_Category'])"
      ],
      "execution_count": 0,
      "outputs": []
    },
    {
      "cell_type": "code",
      "metadata": {
        "id": "Gwwu-mj8lw6q",
        "colab_type": "code",
        "colab": {},
        "outputId": "8c054126-10d9-4d7c-8782-a7a47651608a"
      },
      "source": [
        "pd.DataFrame(df_by_region.Profit.mean())"
      ],
      "execution_count": 0,
      "outputs": [
        {
          "output_type": "execute_result",
          "data": {
            "text/html": [
              "<div>\n",
              "<style scoped>\n",
              "    .dataframe tbody tr th:only-of-type {\n",
              "        vertical-align: middle;\n",
              "    }\n",
              "\n",
              "    .dataframe tbody tr th {\n",
              "        vertical-align: top;\n",
              "    }\n",
              "\n",
              "    .dataframe thead th {\n",
              "        text-align: right;\n",
              "    }\n",
              "</style>\n",
              "<table border=\"1\" class=\"dataframe\">\n",
              "  <thead>\n",
              "    <tr style=\"text-align: right;\">\n",
              "      <th></th>\n",
              "      <th></th>\n",
              "      <th>Profit</th>\n",
              "    </tr>\n",
              "    <tr>\n",
              "      <th>Product_Category</th>\n",
              "      <th>Product_Sub_Category</th>\n",
              "      <th></th>\n",
              "    </tr>\n",
              "  </thead>\n",
              "  <tbody>\n",
              "    <tr>\n",
              "      <th rowspan=\"4\" valign=\"top\">FURNITURE</th>\n",
              "      <th>BOOKCASES</th>\n",
              "      <td>-177.683228</td>\n",
              "    </tr>\n",
              "    <tr>\n",
              "      <th>CHAIRS &amp; CHAIRMATS</th>\n",
              "      <td>387.693601</td>\n",
              "    </tr>\n",
              "    <tr>\n",
              "      <th>OFFICE FURNISHINGS</th>\n",
              "      <td>127.446612</td>\n",
              "    </tr>\n",
              "    <tr>\n",
              "      <th>TABLES</th>\n",
              "      <td>-274.411357</td>\n",
              "    </tr>\n",
              "    <tr>\n",
              "      <th rowspan=\"9\" valign=\"top\">OFFICE SUPPLIES</th>\n",
              "      <th>APPLIANCES</th>\n",
              "      <td>223.866498</td>\n",
              "    </tr>\n",
              "    <tr>\n",
              "      <th>BINDERS AND BINDER ACCESSORIES</th>\n",
              "      <td>335.970918</td>\n",
              "    </tr>\n",
              "    <tr>\n",
              "      <th>ENVELOPES</th>\n",
              "      <td>195.864228</td>\n",
              "    </tr>\n",
              "    <tr>\n",
              "      <th>LABELS</th>\n",
              "      <td>47.490174</td>\n",
              "    </tr>\n",
              "    <tr>\n",
              "      <th>PAPER</th>\n",
              "      <td>36.949551</td>\n",
              "    </tr>\n",
              "    <tr>\n",
              "      <th>PENS &amp; ART SUPPLIES</th>\n",
              "      <td>11.950679</td>\n",
              "    </tr>\n",
              "    <tr>\n",
              "      <th>RUBBER BANDS</th>\n",
              "      <td>-0.573575</td>\n",
              "    </tr>\n",
              "    <tr>\n",
              "      <th>SCISSORS, RULERS AND TRIMMERS</th>\n",
              "      <td>-54.161458</td>\n",
              "    </tr>\n",
              "    <tr>\n",
              "      <th>STORAGE &amp; ORGANIZATION</th>\n",
              "      <td>12.205403</td>\n",
              "    </tr>\n",
              "    <tr>\n",
              "      <th rowspan=\"4\" valign=\"top\">TECHNOLOGY</th>\n",
              "      <th>COMPUTER PERIPHERALS</th>\n",
              "      <td>124.389815</td>\n",
              "    </tr>\n",
              "    <tr>\n",
              "      <th>COPIERS AND FAX</th>\n",
              "      <td>1923.695287</td>\n",
              "    </tr>\n",
              "    <tr>\n",
              "      <th>OFFICE MACHINES</th>\n",
              "      <td>913.094748</td>\n",
              "    </tr>\n",
              "    <tr>\n",
              "      <th>TELEPHONES AND COMMUNICATION</th>\n",
              "      <td>358.948607</td>\n",
              "    </tr>\n",
              "  </tbody>\n",
              "</table>\n",
              "</div>"
            ],
            "text/plain": [
              "                                                      Profit\n",
              "Product_Category Product_Sub_Category                       \n",
              "FURNITURE        BOOKCASES                       -177.683228\n",
              "                 CHAIRS & CHAIRMATS               387.693601\n",
              "                 OFFICE FURNISHINGS               127.446612\n",
              "                 TABLES                          -274.411357\n",
              "OFFICE SUPPLIES  APPLIANCES                       223.866498\n",
              "                 BINDERS AND BINDER ACCESSORIES   335.970918\n",
              "                 ENVELOPES                        195.864228\n",
              "                 LABELS                            47.490174\n",
              "                 PAPER                             36.949551\n",
              "                 PENS & ART SUPPLIES               11.950679\n",
              "                 RUBBER BANDS                      -0.573575\n",
              "                 SCISSORS, RULERS AND TRIMMERS    -54.161458\n",
              "                 STORAGE & ORGANIZATION            12.205403\n",
              "TECHNOLOGY       COMPUTER PERIPHERALS             124.389815\n",
              "                 COPIERS AND FAX                 1923.695287\n",
              "                 OFFICE MACHINES                  913.094748\n",
              "                 TELEPHONES AND COMMUNICATION     358.948607"
            ]
          },
          "metadata": {
            "tags": []
          },
          "execution_count": 26
        }
      ]
    },
    {
      "cell_type": "code",
      "metadata": {
        "id": "B9292BULlw6s",
        "colab_type": "code",
        "colab": {},
        "outputId": "b1b5a67c-cecc-49b3-b691-274b20263f03"
      },
      "source": [
        "# Which customer segments are the least profitable? \n",
        "\n",
        "# Step 1. Grouping: First, we will group the dataframe by customer segments\n",
        "df_by_segment = master_df.groupby('Customer_Segment')\n",
        "df_by_segment"
      ],
      "execution_count": 0,
      "outputs": [
        {
          "output_type": "execute_result",
          "data": {
            "text/plain": [
              "<pandas.core.groupby.groupby.DataFrameGroupBy object at 0x00000000052529E8>"
            ]
          },
          "metadata": {
            "tags": []
          },
          "execution_count": 3
        }
      ]
    },
    {
      "cell_type": "markdown",
      "metadata": {
        "id": "_hEh29Dnlw6u",
        "colab_type": "text"
      },
      "source": [
        "Note that ```df.groupby``` returns a DataFrameGroupBy object."
      ]
    },
    {
      "cell_type": "markdown",
      "metadata": {
        "id": "cnjefDJAlw6u",
        "colab_type": "text"
      },
      "source": [
        "#### Step 2. Applying a Function\n",
        "\n",
        "After grouping, you apply a function to a **numeric variable**, such as ```mean(Sales)```, ```sum(Profit)```, etc. "
      ]
    },
    {
      "cell_type": "code",
      "metadata": {
        "id": "IOkxSx8Clw6u",
        "colab_type": "code",
        "colab": {},
        "outputId": "5f602369-6161-4ab4-a5c8-4ae00ca5626a"
      },
      "source": [
        "# Step 2. Applying a function\n",
        "# We can choose aggregate functions such as sum, mean, median, etc.\n",
        "df_by_segment['Profit'].sum()"
      ],
      "execution_count": 0,
      "outputs": [
        {
          "output_type": "execute_result",
          "data": {
            "text/plain": [
              "Customer_Segment\n",
              "CONSUMER          287959.94\n",
              "CORPORATE         599746.00\n",
              "HOME OFFICE       318354.03\n",
              "SMALL BUSINESS    315708.01\n",
              "Name: Profit, dtype: float64"
            ]
          },
          "metadata": {
            "tags": []
          },
          "execution_count": 4
        }
      ]
    },
    {
      "cell_type": "markdown",
      "metadata": {
        "id": "9-L2GoPjlw6w",
        "colab_type": "text"
      },
      "source": [
        "Notice that we have indexed the ```Profit``` column in the DataFrameGroupBy object exactly as we index a normal column in a dataframe. Alternatively, you could also use ```df_by_segment.Profit```. "
      ]
    },
    {
      "cell_type": "code",
      "metadata": {
        "id": "NQBdI5uYlw6w",
        "colab_type": "code",
        "colab": {},
        "outputId": "90421693-b084-402d-b45e-9b8d7e2450ba"
      },
      "source": [
        "# Alternatively\n",
        "df_by_segment.Profit.sum()"
      ],
      "execution_count": 0,
      "outputs": [
        {
          "output_type": "execute_result",
          "data": {
            "text/plain": [
              "Customer_Segment\n",
              "CONSUMER          287959.94\n",
              "CORPORATE         599746.00\n",
              "HOME OFFICE       318354.03\n",
              "SMALL BUSINESS    315708.01\n",
              "Name: Profit, dtype: float64"
            ]
          },
          "metadata": {
            "tags": []
          },
          "execution_count": 5
        }
      ]
    },
    {
      "cell_type": "markdown",
      "metadata": {
        "id": "1y-x4W9Ulw6y",
        "colab_type": "text"
      },
      "source": [
        "So this tells us that profits are the least in the CONSUMER segment, and highest in the CORPORATE segment."
      ]
    },
    {
      "cell_type": "code",
      "metadata": {
        "id": "d8FntoGwlw6y",
        "colab_type": "code",
        "colab": {},
        "outputId": "dc2b24b0-9e64-4b5e-b3da-b04d65062e63"
      },
      "source": [
        "# For better readability, you may want to sort the summarised series:\n",
        "df_by_segment.Profit.sum().sort_values(ascending = False)"
      ],
      "execution_count": 0,
      "outputs": [
        {
          "output_type": "execute_result",
          "data": {
            "text/plain": [
              "Customer_Segment\n",
              "CORPORATE         599746.00\n",
              "HOME OFFICE       318354.03\n",
              "SMALL BUSINESS    315708.01\n",
              "CONSUMER          287959.94\n",
              "Name: Profit, dtype: float64"
            ]
          },
          "metadata": {
            "tags": []
          },
          "execution_count": 6
        }
      ]
    },
    {
      "cell_type": "markdown",
      "metadata": {
        "id": "rsLDEZpSlw60",
        "colab_type": "text"
      },
      "source": [
        "#### Step 3. Combining the results into a Data Structure\n",
        "\n",
        "You can optionally show the results as a dataframe."
      ]
    },
    {
      "cell_type": "code",
      "metadata": {
        "id": "FxAr39dblw60",
        "colab_type": "code",
        "colab": {},
        "outputId": "aa89a5be-3782-487e-adfb-4d4c41ac4c85"
      },
      "source": [
        "# Converting to a df\n",
        "pd.DataFrame(df_by_segment['Profit'].sum())"
      ],
      "execution_count": 0,
      "outputs": [
        {
          "output_type": "execute_result",
          "data": {
            "text/html": [
              "<div>\n",
              "<style scoped>\n",
              "    .dataframe tbody tr th:only-of-type {\n",
              "        vertical-align: middle;\n",
              "    }\n",
              "\n",
              "    .dataframe tbody tr th {\n",
              "        vertical-align: top;\n",
              "    }\n",
              "\n",
              "    .dataframe thead th {\n",
              "        text-align: right;\n",
              "    }\n",
              "</style>\n",
              "<table border=\"1\" class=\"dataframe\">\n",
              "  <thead>\n",
              "    <tr style=\"text-align: right;\">\n",
              "      <th></th>\n",
              "      <th>Profit</th>\n",
              "    </tr>\n",
              "    <tr>\n",
              "      <th>Customer_Segment</th>\n",
              "      <th></th>\n",
              "    </tr>\n",
              "  </thead>\n",
              "  <tbody>\n",
              "    <tr>\n",
              "      <th>CONSUMER</th>\n",
              "      <td>287959.94</td>\n",
              "    </tr>\n",
              "    <tr>\n",
              "      <th>CORPORATE</th>\n",
              "      <td>599746.00</td>\n",
              "    </tr>\n",
              "    <tr>\n",
              "      <th>HOME OFFICE</th>\n",
              "      <td>318354.03</td>\n",
              "    </tr>\n",
              "    <tr>\n",
              "      <th>SMALL BUSINESS</th>\n",
              "      <td>315708.01</td>\n",
              "    </tr>\n",
              "  </tbody>\n",
              "</table>\n",
              "</div>"
            ],
            "text/plain": [
              "                     Profit\n",
              "Customer_Segment           \n",
              "CONSUMER          287959.94\n",
              "CORPORATE         599746.00\n",
              "HOME OFFICE       318354.03\n",
              "SMALL BUSINESS    315708.01"
            ]
          },
          "metadata": {
            "tags": []
          },
          "execution_count": 7
        }
      ]
    },
    {
      "cell_type": "code",
      "metadata": {
        "id": "yC2p1dQYlw61",
        "colab_type": "code",
        "colab": {}
      },
      "source": [
        "# Let's go through some more examples\n",
        "# E.g.: Which product categories are the least profitable?\n",
        "\n",
        "# 1. Group by product category\n",
        "by_product_cat = master_df.groupby('Product_Category')"
      ],
      "execution_count": 0,
      "outputs": []
    },
    {
      "cell_type": "code",
      "metadata": {
        "id": "Uhp3TJ6Klw62",
        "colab_type": "code",
        "colab": {},
        "outputId": "abdf854b-95b4-4800-a3ae-636fc20b9316"
      },
      "source": [
        "# 2. This time, let's compare average profits\n",
        "# Apply mean() on Profit\n",
        "by_product_cat['Profit'].mean()"
      ],
      "execution_count": 0,
      "outputs": [
        {
          "output_type": "execute_result",
          "data": {
            "text/plain": [
              "Product_Category\n",
              "FURNITURE           68.116607\n",
              "OFFICE SUPPLIES    112.369074\n",
              "TECHNOLOGY         429.207516\n",
              "Name: Profit, dtype: float64"
            ]
          },
          "metadata": {
            "tags": []
          },
          "execution_count": 9
        }
      ]
    },
    {
      "cell_type": "markdown",
      "metadata": {
        "id": "4_NLn11flw64",
        "colab_type": "text"
      },
      "source": [
        "FURNITURE is the least profitable, TECHNOLOGY the most. Let's see which product sub-cetgories within FURNITURE are less profitable."
      ]
    },
    {
      "cell_type": "code",
      "metadata": {
        "id": "qCeTp-Ltlw64",
        "colab_type": "code",
        "colab": {},
        "outputId": "fd9d5407-39e4-4c60-d265-c44c8174db9c"
      },
      "source": [
        "# E.g.: Which product categories and sub-categories are the least profitable?\n",
        "# 1. Group by category and sub-category\n",
        "by_product_cat_subcat = master_df.groupby(['Product_Category', 'Product_Sub_Category'])\n",
        "by_product_cat_subcat['Profit'].mean()"
      ],
      "execution_count": 0,
      "outputs": [
        {
          "output_type": "execute_result",
          "data": {
            "text/plain": [
              "Product_Category  Product_Sub_Category          \n",
              "FURNITURE         BOOKCASES                         -177.683228\n",
              "                  CHAIRS & CHAIRMATS                 387.693601\n",
              "                  OFFICE FURNISHINGS                 127.446612\n",
              "                  TABLES                            -274.411357\n",
              "OFFICE SUPPLIES   APPLIANCES                         223.866498\n",
              "                  BINDERS AND BINDER ACCESSORIES     335.970918\n",
              "                  ENVELOPES                          195.864228\n",
              "                  LABELS                              47.490174\n",
              "                  PAPER                               36.949551\n",
              "                  PENS & ART SUPPLIES                 11.950679\n",
              "                  RUBBER BANDS                        -0.573575\n",
              "                  SCISSORS, RULERS AND TRIMMERS      -54.161458\n",
              "                  STORAGE & ORGANIZATION              12.205403\n",
              "TECHNOLOGY        COMPUTER PERIPHERALS               124.389815\n",
              "                  COPIERS AND FAX                   1923.695287\n",
              "                  OFFICE MACHINES                    913.094748\n",
              "                  TELEPHONES AND COMMUNICATION       358.948607\n",
              "Name: Profit, dtype: float64"
            ]
          },
          "metadata": {
            "tags": []
          },
          "execution_count": 10
        }
      ]
    },
    {
      "cell_type": "markdown",
      "metadata": {
        "id": "cyVAqtKPlw65",
        "colab_type": "text"
      },
      "source": [
        "Thus, within FURNITURE, TABLES are the least profitable, followed by BOOKCASES."
      ]
    },
    {
      "cell_type": "code",
      "metadata": {
        "id": "UD_TzsYplw65",
        "colab_type": "code",
        "colab": {},
        "outputId": "7f8f846b-ceea-47e2-8619-a3e85e105e96"
      },
      "source": [
        "# Recall the df.describe() method?\n",
        "# To apply multiple functions simultaneously, you can use the describe() function on the grouped df object\n",
        "by_product_cat['Profit'].describe()"
      ],
      "execution_count": 0,
      "outputs": [
        {
          "output_type": "execute_result",
          "data": {
            "text/html": [
              "<div>\n",
              "<style scoped>\n",
              "    .dataframe tbody tr th:only-of-type {\n",
              "        vertical-align: middle;\n",
              "    }\n",
              "\n",
              "    .dataframe tbody tr th {\n",
              "        vertical-align: top;\n",
              "    }\n",
              "\n",
              "    .dataframe thead th {\n",
              "        text-align: right;\n",
              "    }\n",
              "</style>\n",
              "<table border=\"1\" class=\"dataframe\">\n",
              "  <thead>\n",
              "    <tr style=\"text-align: right;\">\n",
              "      <th></th>\n",
              "      <th>count</th>\n",
              "      <th>mean</th>\n",
              "      <th>std</th>\n",
              "      <th>min</th>\n",
              "      <th>25%</th>\n",
              "      <th>50%</th>\n",
              "      <th>75%</th>\n",
              "      <th>max</th>\n",
              "    </tr>\n",
              "    <tr>\n",
              "      <th>Product_Category</th>\n",
              "      <th></th>\n",
              "      <th></th>\n",
              "      <th></th>\n",
              "      <th></th>\n",
              "      <th></th>\n",
              "      <th></th>\n",
              "      <th></th>\n",
              "      <th></th>\n",
              "    </tr>\n",
              "  </thead>\n",
              "  <tbody>\n",
              "    <tr>\n",
              "      <th>FURNITURE</th>\n",
              "      <td>1724.0</td>\n",
              "      <td>68.116607</td>\n",
              "      <td>1112.923257</td>\n",
              "      <td>-11053.60</td>\n",
              "      <td>-281.3550</td>\n",
              "      <td>-14.250</td>\n",
              "      <td>187.1600</td>\n",
              "      <td>8614.79</td>\n",
              "    </tr>\n",
              "    <tr>\n",
              "      <th>OFFICE SUPPLIES</th>\n",
              "      <td>4610.0</td>\n",
              "      <td>112.369074</td>\n",
              "      <td>744.617939</td>\n",
              "      <td>-2175.09</td>\n",
              "      <td>-57.0225</td>\n",
              "      <td>-3.845</td>\n",
              "      <td>56.9475</td>\n",
              "      <td>11535.28</td>\n",
              "    </tr>\n",
              "    <tr>\n",
              "      <th>TECHNOLOGY</th>\n",
              "      <td>2065.0</td>\n",
              "      <td>429.207516</td>\n",
              "      <td>1863.208375</td>\n",
              "      <td>-14140.70</td>\n",
              "      <td>-88.9400</td>\n",
              "      <td>66.220</td>\n",
              "      <td>561.1300</td>\n",
              "      <td>27220.69</td>\n",
              "    </tr>\n",
              "  </tbody>\n",
              "</table>\n",
              "</div>"
            ],
            "text/plain": [
              "                   count        mean          std       min       25%     50%  \\\n",
              "Product_Category                                                                \n",
              "FURNITURE         1724.0   68.116607  1112.923257 -11053.60 -281.3550 -14.250   \n",
              "OFFICE SUPPLIES   4610.0  112.369074   744.617939  -2175.09  -57.0225  -3.845   \n",
              "TECHNOLOGY        2065.0  429.207516  1863.208375 -14140.70  -88.9400  66.220   \n",
              "\n",
              "                       75%       max  \n",
              "Product_Category                      \n",
              "FURNITURE         187.1600   8614.79  \n",
              "OFFICE SUPPLIES    56.9475  11535.28  \n",
              "TECHNOLOGY        561.1300  27220.69  "
            ]
          },
          "metadata": {
            "tags": []
          },
          "execution_count": 11
        }
      ]
    },
    {
      "cell_type": "code",
      "metadata": {
        "id": "Hz2bu1aGlw67",
        "colab_type": "code",
        "colab": {},
        "outputId": "56e5a76a-7cf8-45e2-f599-991075d4d13a"
      },
      "source": [
        "# Some other summary functions to apply on groups\n",
        "by_product_cat['Profit'].count()"
      ],
      "execution_count": 0,
      "outputs": [
        {
          "output_type": "execute_result",
          "data": {
            "text/plain": [
              "Product_Category\n",
              "FURNITURE          1724\n",
              "OFFICE SUPPLIES    4610\n",
              "TECHNOLOGY         2065\n",
              "Name: Profit, dtype: int64"
            ]
          },
          "metadata": {
            "tags": []
          },
          "execution_count": 12
        }
      ]
    },
    {
      "cell_type": "code",
      "metadata": {
        "id": "EI130lCelw68",
        "colab_type": "code",
        "colab": {},
        "outputId": "be6dfab5-3bcd-41b3-c970-d64c74517bc9"
      },
      "source": [
        "by_product_cat['Profit'].min()"
      ],
      "execution_count": 0,
      "outputs": [
        {
          "output_type": "execute_result",
          "data": {
            "text/plain": [
              "Product_Category\n",
              "FURNITURE         -11053.60\n",
              "OFFICE SUPPLIES    -2175.09\n",
              "TECHNOLOGY        -14140.70\n",
              "Name: Profit, dtype: float64"
            ]
          },
          "metadata": {
            "tags": []
          },
          "execution_count": 13
        }
      ]
    },
    {
      "cell_type": "code",
      "metadata": {
        "id": "6Zwtn3CTlw69",
        "colab_type": "code",
        "colab": {},
        "outputId": "cd99f797-9fdc-435f-fcf4-0333ae6c75fc"
      },
      "source": [
        "# E.g. Customers in which geographic region are the least profitable?\n",
        "master_df.groupby('Region').Profit.mean()"
      ],
      "execution_count": 0,
      "outputs": [
        {
          "output_type": "execute_result",
          "data": {
            "text/plain": [
              "Region\n",
              "ATLANTIC                 221.259870\n",
              "NORTHWEST TERRITORIES    255.464670\n",
              "NUNAVUT                   35.963418\n",
              "ONTARIO                  189.960865\n",
              "PRARIE                   188.253294\n",
              "QUEBEC                   179.803649\n",
              "WEST                     149.175595\n",
              "YUKON                    136.253155\n",
              "Name: Profit, dtype: float64"
            ]
          },
          "metadata": {
            "tags": []
          },
          "execution_count": 14
        }
      ]
    },
    {
      "cell_type": "code",
      "metadata": {
        "id": "jnJxaKRslw6_",
        "colab_type": "code",
        "colab": {},
        "outputId": "731f14f7-fd8a-475a-e9ed-70a4c0c56c46"
      },
      "source": [
        "# Note that the resulting object is a Series, thus you can perform vectorised computations on them\n",
        "\n",
        "# E.g. Calculate the Sales across each region as a percentage of total Sales\n",
        "# You can divide the entire series by a number (total sales) easily \n",
        "(master_df.groupby('Region').Sales.sum() / sum(master_df['Sales']))*100"
      ],
      "execution_count": 0,
      "outputs": [
        {
          "output_type": "execute_result",
          "data": {
            "text/plain": [
              "Region\n",
              "ATLANTIC                 13.504305\n",
              "NORTHWEST TERRITORIES     5.369193\n",
              "NUNAVUT                   0.780233\n",
              "ONTARIO                  20.536970\n",
              "PRARIE                   19.022396\n",
              "QUEBEC                   10.124936\n",
              "WEST                     24.119372\n",
              "YUKON                     6.542595\n",
              "Name: Sales, dtype: float64"
            ]
          },
          "metadata": {
            "tags": []
          },
          "execution_count": 15
        }
      ]
    },
    {
      "cell_type": "markdown",
      "metadata": {
        "id": "j7ckyYM9lw7A",
        "colab_type": "text"
      },
      "source": [
        "The regions ONTARIO, WEST and PRARIE comprise of about 64% of the sales."
      ]
    },
    {
      "cell_type": "markdown",
      "metadata": {
        "id": "DyNwFj5Ylw7A",
        "colab_type": "text"
      },
      "source": [
        "Until now, we've been working with the data without making changes or additions to it. In the next section, we will create new columns, alter existing columns and apply some more grouping and summarising.\n",
        "\n"
      ]
    },
    {
      "cell_type": "code",
      "metadata": {
        "id": "3lh9nDFKlw7B",
        "colab_type": "code",
        "colab": {},
        "outputId": "69dc16da-359f-4a00-a5b7-8b90fb3dc86c"
      },
      "source": [
        "import pandas as pd\n",
        "df = pd.read_csv('https://query.data.world/s/vBDCsoHCytUSLKkLvq851k2b8JOCkF')\n",
        "by_mon_day=df.groupby(['month'])\n",
        "df_1 = by_mon_day['rain','wind'].mean()\n",
        "print(df_1.head(20))"
      ],
      "execution_count": 0,
      "outputs": [
        {
          "output_type": "stream",
          "text": [
            "           rain      wind\n",
            "month                    \n",
            "apr    0.000000  4.666667\n",
            "aug    0.058696  4.086413\n",
            "dec    0.000000  7.644444\n",
            "feb    0.000000  3.755000\n",
            "jan    0.000000  2.000000\n",
            "jul    0.006250  3.734375\n",
            "jun    0.000000  4.135294\n",
            "mar    0.003704  4.968519\n",
            "may    0.000000  4.450000\n",
            "nov    0.000000  4.500000\n",
            "oct    0.000000  3.460000\n",
            "sep    0.000000  3.557558\n"
          ],
          "name": "stdout"
        }
      ]
    },
    {
      "cell_type": "code",
      "metadata": {
        "id": "1kC6C3tslw7C",
        "colab_type": "code",
        "colab": {},
        "outputId": "d8253420-87da-448d-f66a-261b937a4b74"
      },
      "source": [
        "by_product_cat = master_df.groupby('Product_Category')\n",
        "#by_product_cat['Profit'].describe()\n",
        "#pd.DataFrame(by_product_cat)\n",
        "#master_df.describe()\n",
        "master_df.count()"
      ],
      "execution_count": 0,
      "outputs": [
        {
          "output_type": "execute_result",
          "data": {
            "text/plain": [
              "Ord_id                  8399\n",
              "Prod_id                 8399\n",
              "Ship_id                 8399\n",
              "Cust_id                 8399\n",
              "Sales                   8399\n",
              "Discount                8399\n",
              "Order_Quantity          8399\n",
              "Profit                  8399\n",
              "Shipping_Cost           8399\n",
              "Product_Base_Margin     8336\n",
              "Customer_Name           8399\n",
              "Province                8399\n",
              "Region                  8399\n",
              "Customer_Segment        8399\n",
              "Product_Category        8399\n",
              "Product_Sub_Category    8399\n",
              "Order_ID_x              8399\n",
              "Ship_Mode               8399\n",
              "Ship_Date               8399\n",
              "Order_ID_y              8399\n",
              "Order_Date              8399\n",
              "Order_Priority          8399\n",
              "dtype: int64"
            ]
          },
          "metadata": {
            "tags": []
          },
          "execution_count": 45
        }
      ]
    },
    {
      "cell_type": "code",
      "metadata": {
        "id": "RkJaE9-xlw7D",
        "colab_type": "code",
        "colab": {},
        "outputId": "bb185eb8-8a5b-403f-d136-1a55acdadee8"
      },
      "source": [
        "import numpy as np\n",
        "import pandas as pd\n",
        "df = pd.read_csv('https://query.data.world/s/vBDCsoHCytUSLKkLvq851k2b8JOCkF')\n",
        "df_1 = df.pivot_table(values=[\"rain\",\"wind\"],index=[\"month\",\"day\"],aggfunc=\"mean\")\n",
        "print(df_1.head(20))"
      ],
      "execution_count": 0,
      "outputs": [
        {
          "output_type": "stream",
          "text": [
            "               rain      wind\n",
            "month day                    \n",
            "apr   fri  0.000000  3.100000\n",
            "      mon  0.000000  3.100000\n",
            "      sat  0.000000  4.500000\n",
            "      sun  0.000000  5.666667\n",
            "      thu  0.000000  5.800000\n",
            "      wed  0.000000  2.700000\n",
            "aug   fri  0.066667  4.766667\n",
            "      mon  0.000000  2.873333\n",
            "      sat  0.000000  4.310345\n",
            "      sun  0.025000  4.417500\n",
            "      thu  0.000000  3.503846\n",
            "      tue  0.300000  4.567857\n",
            "      wed  0.000000  3.520000\n",
            "dec   fri  0.000000  4.900000\n",
            "      mon  0.000000  8.500000\n",
            "      sun  0.000000  8.500000\n",
            "      thu  0.000000  4.900000\n",
            "      tue  0.000000  8.500000\n",
            "      wed  0.000000  8.000000\n",
            "feb   fri  0.000000  4.820000\n"
          ],
          "name": "stdout"
        }
      ]
    }
  ]
}